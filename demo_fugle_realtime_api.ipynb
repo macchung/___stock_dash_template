{
 "cells": [
  {
   "cell_type": "code",
   "execution_count": null,
   "metadata": {
    "scrolled": true
   },
   "outputs": [],
   "source": [
    "from fugle_realtime_api import *"
   ]
  },
  {
   "cell_type": "code",
   "execution_count": null,
   "metadata": {},
   "outputs": [],
   "source": [
    "api_token = 'YOUR FUGLE API TOKEN'\n",
    "line_token = 'YOUR LINE NOTIFY TOKEN'"
   ]
  },
  {
   "cell_type": "code",
   "execution_count": null,
   "metadata": {
    "scrolled": true
   },
   "outputs": [],
   "source": [
    "line = notify_setting(api_token=api_token,line_token=line_token)"
   ]
  },
  {
   "cell_type": "code",
   "execution_count": null,
   "metadata": {},
   "outputs": [],
   "source": [
    "fugle_chart = plot_chart_data(api_token=api_token, symbol_id='2884')\n",
    "fugle_trades = plot_trades_data(api_token=api_token, symbol_id='2884')"
   ]
  },
  {
   "cell_type": "code",
   "execution_count": null,
   "metadata": {
    "scrolled": true
   },
   "outputs": [],
   "source": [
    "fugle_quote = plot_quote_data(api_token=api_token, symbol_id='2884')\n",
    "fugle_quote.get_first_order_book()"
   ]
  },
  {
   "cell_type": "code",
   "execution_count": null,
   "metadata": {
    "scrolled": true
   },
   "outputs": [],
   "source": [
    "external_stylesheets = ['https://codepen.io/chriddyp/pen/bWLwgP.css']\n",
    "app = dash.Dash(__name__, external_stylesheets=external_stylesheets)\n",
    "\n",
    "#If you want to know mroe html language in Dash, please visit this url -> https://dash.plot.ly/dash-html-components\n",
    "\n",
    "#Dash apps store the app.layout in memory.\n",
    "app.layout = html.Div(children=[\n",
    "    \n",
    "    html.Div(\n",
    "        id='min_K_volume',\n",
    "        #height：means the height of th graph\n",
    "        #width：means the width of th graph\n",
    "        #display：'inline-block' means merge two graph on the same line\n",
    "        style={\n",
    "            'width': '54%',\n",
    "            'display': 'inline-block',\n",
    "            'vertical-align': 'top'\n",
    "        }),\n",
    "    \n",
    "    html.Div([\n",
    "        dcc.Graph(id='price_vol_content', style={'height':'50vh'}),\n",
    "        #line_strategy_bottom means that we can create switch of trading strategy.\n",
    "        line.line_strategy_bottom(id_name='switch1', label_name='strategy-1'),\n",
    "        line.line_strategy_bottom(id_name='switch2',label_name='strategy-2'),\n",
    "        line.line_strategy_bottom(id_name='switch3',label_name='strategy-3')],\n",
    "        \n",
    "        style={'width': '20%','display': 'inline-block','vertical-align': 'top'}),\n",
    "    \n",
    "    html.Div(id='best5_table',style={'width': '25%','display': 'inline-block'}),\n",
    "\n",
    "    #interval property means that you can set the update interval of data -> in milliseconds\n",
    "    #n_intervals property is an integer that is automatically incremented every time interval milliseconds pass.\n",
    "    dcc.Interval(id='interval-component', interval=5000, n_intervals=1),\n",
    "    html.Div(id='nothing')\n",
    "])\n",
    "\n",
    "\n",
    "@app.callback(Output('min_K_volume', 'children'),\n",
    "              [Input('interval-component', 'n_intervals')])\n",
    "def min_K_plot(interval_component):\n",
    "\n",
    "    return html.Div([\n",
    "        dcc.Graph(\n",
    "            id='min_K',\n",
    "            figure={\n",
    "                'data': [\n",
    "                    fugle_chart.min_K(n=5,up_color='red',down_color='green'),\n",
    "                    fugle_trades.avg_cost_line(n=5,line_color='orange')\n",
    "                ],\n",
    "                'layout': {\n",
    "                    # 'showticklabels:False' means unable to display xticks.\n",
    "                    # 'rangeslider': {'visible':False} means unable to display timeslider under xaxis.\n",
    "                    #'title' means that you can set the title of graph\n",
    "                    'xaxis': { 'rangeslider': {'visible': False}, 'showticklabels': False},\n",
    "                    'title': '2884 5-minK',\n",
    "                    'margin': { 'b': 0,'l': 50, 'r': 0},\n",
    "                    'legend': {'orientation': 'h'}\n",
    "                }\n",
    "            },\n",
    "            style = {'height':'50vh'}\n",
    "        ),\n",
    "        \n",
    "        dcc.Graph(\n",
    "            id='min_volume',\n",
    "            figure = {\n",
    "                'data': [fugle_chart.min_volume(up_color='red', down_color='green')],\n",
    "                \n",
    "                'layout': {\n",
    "                    'margin': { 't': 0,'b': 70,'r': 0,'l': 50}\n",
    "                }\n",
    "            },\n",
    "            style = {'height':'30vh'}\n",
    "        )\n",
    "    ])\n",
    "\n",
    "\n",
    "@app.callback(Output('price_vol_content', 'figure'),\n",
    "              [Input('interval-component', 'n_intervals')])\n",
    "def price_vol_plot(interval_component):\n",
    "\n",
    "    return {\n",
    "        'data': [fugle_trades.volume_of_price()],\n",
    "        'layout': {'margin': {'b': 0,'r': 0}}\n",
    "    }\n",
    "\n",
    "\n",
    "@app.callback(Output('best5_table', 'children'),\n",
    "              [Input('interval-component', 'n_intervals')])\n",
    "def order_book_plot(interval_component):\n",
    "\n",
    "    fugle_quote.update_order_book()\n",
    "\n",
    "    return html.Div([\n",
    "        fugle_quote.order_book(header_fontsize=16,cell_fontsize=14)\n",
    "    ])\n",
    "\n",
    "\n",
    "@app.callback(Output('nothing', 'children'), [\n",
    "    Input('interval-component', 'n_intervals'),\n",
    "    Input('switch1', 'on'),\n",
    "    Input('switch2', 'on'),\n",
    "    Input('switch3', 'on'),\n",
    "])\n",
    "def interact_strategy(interval_component, switch1, switch2, switch3):\n",
    "    #switch == True means that open the trading strategy reminder\n",
    "    if switch1 == True:\n",
    "\n",
    "        line.price_strategy(symbol_id='2884', up_price=28, down_price=27)\n",
    "\n",
    "    if switch2 == True:\n",
    "\n",
    "        line.price_change_strategy(symbol_id='2884',\n",
    "                                   up_rate=0.02,\n",
    "                                   down_rate=0.02)\n",
    "\n",
    "    if switch3 == True:\n",
    "\n",
    "        line.price_strategy(symbol_id='2884', up_price=28, down_price=27)\n",
    "\n",
    "    else:\n",
    "\n",
    "        pass\n",
    "\n",
    "\n",
    "if __name__ == '__main__':\n",
    "    app.run_server(host='0.0.0.0')"
   ]
  },
  {
   "cell_type": "code",
   "execution_count": null,
   "metadata": {},
   "outputs": [],
   "source": []
  }
 ],
 "metadata": {
  "kernelspec": {
   "display_name": "Python 3",
   "language": "python",
   "name": "python3"
  },
  "language_info": {
   "codemirror_mode": {
    "name": "ipython",
    "version": 3
   },
   "file_extension": ".py",
   "mimetype": "text/x-python",
   "name": "python",
   "nbconvert_exporter": "python",
   "pygments_lexer": "ipython3",
   "version": "3.6.8"
  },
  "toc": {
   "base_numbering": 1,
   "nav_menu": {},
   "number_sections": true,
   "sideBar": true,
   "skip_h1_title": false,
   "title_cell": "Table of Contents",
   "title_sidebar": "Contents",
   "toc_cell": true,
   "toc_position": {},
   "toc_section_display": true,
   "toc_window_display": false
  }
 },
 "nbformat": 4,
 "nbformat_minor": 2
}
